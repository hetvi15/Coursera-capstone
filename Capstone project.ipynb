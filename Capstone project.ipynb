{
    "cells": [
        {
            "metadata": {},
            "cell_type": "markdown",
            "source": "## Capstone Project - The Battle of Neighbourhoods (Part-1)\n"
        },
        {
            "metadata": {
                "collapsed": true
            },
            "cell_type": "markdown",
            "source": "### INTRODUCTION:-\n\n\nNew York City's demographics show that it is a large and ethnically diverse metropolis. It is\nthe largest city in the United States with a long history of international immigration. New York\nCity was home to nearly 8.5 million people in 2014, accounting for over 40% of the population\nof New York State and a slightly lower percentage of the New York metropolitan area, home\nto approximately 23.6 million. Over the last decade the city has been growing faster than the\nregion. The New York region continues to be by far the leading metropolitan gateway for legal\nimmigrants admitted into the United States.\nNew York City has also been a major point of entry for immigrants; the term \"melting pot\"\nwas coined to describe densely populated immigrant neighbourhoods on the Lower East Side.\nAs many as 800 languages are spoken in New York, making it the most linguistically diverse\ncity in the world. English remains the most widely spoken language, although there are areas\nin the outer boroughs in which up to 25% of people speak English as an alternate language,\nand/or have limited or no English language fluency. English is least spoken in neighbourhoods\nsuch as Flushing, Sunset Park, and Corona.\nWith its diverse culture, comes diverse food items. There are many restaurants in New York\nCity, each belonging to different categories like Chinese, Indian, and French etc.\n\n"
        },
        {
            "metadata": {},
            "cell_type": "markdown",
            "source": "### PROBLEM:-\n\n#### To find the answers to the following questions:\n1. List and visualize all major parts of New York City that has great Indian restaurants.\n2. what is best location in New York City for Indian Cuisine?\n3. which areas have potential Indian Restaurant Market?\n4. which all areas lack Indian Restaurants?\n5. which is the best place to stay if you prefer Indian Cuisine?"
        },
        {
            "metadata": {},
            "cell_type": "code",
            "source": "",
            "execution_count": null,
            "outputs": []
        }
    ],
    "metadata": {
        "kernelspec": {
            "name": "python3",
            "display_name": "Python 3.7",
            "language": "python"
        },
        "language_info": {
            "name": "python",
            "version": "3.7.9",
            "mimetype": "text/x-python",
            "codemirror_mode": {
                "name": "ipython",
                "version": 3
            },
            "pygments_lexer": "ipython3",
            "nbconvert_exporter": "python",
            "file_extension": ".py"
        }
    },
    "nbformat": 4,
    "nbformat_minor": 1
}