{
    "cells": [
        {
            "metadata": {
                "collapsed": true
            },
            "cell_type": "markdown",
            "source": "# ASSIGNMENT 1\n"
        },
        {
            "metadata": {},
            "cell_type": "markdown",
            "source": "**THIS WILL BE PRIMARILY USED FOR CAPESTONE PROJECT IN COURSERA FOR IBM PROFESSIONAL DATA SCIENCE CERTIFICATE.**\n\n//criteria 1 markdwon"
        },
        {
            "metadata": {},
            "cell_type": "code",
            "source": "import pandas as pd #criteria 2  importing pandas\nimport numpy as np #citeria 3 importing numpy\n",
            "execution_count": 2,
            "outputs": []
        },
        {
            "metadata": {},
            "cell_type": "code",
            "source": "print(\"Hello Capstone Project Course!\") # criteria 4 print statement",
            "execution_count": 3,
            "outputs": [
                {
                    "output_type": "stream",
                    "text": "Hello Capstone Project Course!\n",
                    "name": "stdout"
                }
            ]
        },
        {
            "metadata": {},
            "cell_type": "code",
            "source": "",
            "execution_count": null,
            "outputs": []
        }
    ],
    "metadata": {
        "kernelspec": {
            "name": "python3",
            "display_name": "Python 3.7",
            "language": "python"
        },
        "language_info": {
            "name": "python",
            "version": "3.7.9",
            "mimetype": "text/x-python",
            "codemirror_mode": {
                "name": "ipython",
                "version": 3
            },
            "pygments_lexer": "ipython3",
            "nbconvert_exporter": "python",
            "file_extension": ".py"
        }
    },
    "nbformat": 4,
    "nbformat_minor": 1
}