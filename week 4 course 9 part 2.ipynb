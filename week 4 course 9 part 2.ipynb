{
    "cells": [
        {
            "metadata": {
                "collapsed": true
            },
            "cell_type": "markdown",
            "source": "## Capstone Project - The Battle of Neighbourhoods (Part-1)"
        },
        {
            "metadata": {},
            "cell_type": "markdown",
            "source": "### Data Section:\nNew York City's demographics show that it is a large and ethnically diverse metropolis. With\nits diverse culture, comes diverse food items. There are many restaurants in New York City,\neach belonging to different categories like Chinese, Indian, and French etc.\n"
        },
        {
            "metadata": {},
            "cell_type": "markdown",
            "source": "**For this project we need the following data:-**\n1. New York City data that contains list Boroughs, Neighbourhoods along with their latitude and longitude.\n    1. Data source : https://cocl.us/new_york_dataset\n    2. Description: This data set contains the required information. And we will use this dataset to explore various neighbourhoods of New York City"
        },
        {
            "metadata": {},
            "cell_type": "markdown",
            "source": "    \n2. Indian restaurants in each neighbourhood of New York City.\n    1. Data source : Foursquare API\n    2. Description: By using this API we will get all the venues in each neighbourhood. We can filter these venues to get only Indian restaurants.\n    "
        },
        {
            "metadata": {},
            "cell_type": "markdown",
            "source": "3. GeoSpace data\n    1. Data source : https://data.cityofnewyork.us/City-Government/BoroughBoundaries/tqmj-j8zm\n    2. Description: By using this geo space data we will get the New York Borough\nboundaries that will help us visualize choropleth map."
        },
        {
            "metadata": {},
            "cell_type": "code",
            "source": "",
            "execution_count": null,
            "outputs": []
        }
    ],
    "metadata": {
        "kernelspec": {
            "name": "python3",
            "display_name": "Python 3.7",
            "language": "python"
        },
        "language_info": {
            "name": "python",
            "version": "3.7.9",
            "mimetype": "text/x-python",
            "codemirror_mode": {
                "name": "ipython",
                "version": 3
            },
            "pygments_lexer": "ipython3",
            "nbconvert_exporter": "python",
            "file_extension": ".py"
        }
    },
    "nbformat": 4,
    "nbformat_minor": 1
}